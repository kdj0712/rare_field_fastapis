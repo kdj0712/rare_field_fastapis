{
 "cells": [
  {
   "cell_type": "markdown",
   "id": "53407f16-2eee-40ef-99f8-75349c62bcc0",
   "metadata": {},
   "source": [
    "## 데이터 전처리"
   ]
  },
  {
   "cell_type": "code",
   "execution_count": 12,
   "id": "57ff0a92-be29-4b34-8254-0c368ddc1f98",
   "metadata": {},
   "outputs": [],
   "source": [
    "import pandas as pd\n",
    "df_da = pd.read_csv('../csv/data_analysis.persona1_dcinside_agony.csv')"
   ]
  },
  {
   "cell_type": "code",
   "execution_count": 13,
   "id": "811c1447-d38a-4194-9a95-011f01a19167",
   "metadata": {},
   "outputs": [],
   "source": [
    "def pre(path) : \n",
    "    df_da = pd.read_csv(path)\n",
    "    # df_da =df_da.drop(columns='_id')\n",
    "    df_da['contents'] = df_da['contents'].str.replace(r'\\n', ' ')\n",
    "    df_da['contents'] = df_da['contents'].str.replace('- dc official App', '')\n",
    "    df_da['contents_all'] = df_da['title']+' '+ df_da['contents']\n",
    "    return df_da"
   ]
  },
  {
   "cell_type": "code",
   "execution_count": 14,
   "id": "40138e99-9a4c-4089-8d83-a3a710239d27",
   "metadata": {},
   "outputs": [],
   "source": [
    "df_da = pre('../csv/data_analysis.persona1_dcinside_agony.csv')\n",
    "df_da.dropna(inplace=True)"
   ]
  },
  {
   "cell_type": "code",
   "execution_count": 15,
   "id": "1c9d07df-48b5-4a3f-aa52-b2e6f4f107e7",
   "metadata": {},
   "outputs": [],
   "source": [
    "# tokenizing\n",
    "from sklearn.feature_extraction.text import TfidfVectorizer\n",
    "\n",
    "tfidfVectorizer = TfidfVectorizer(ngram_range=(1, 2))"
   ]
  },
  {
   "cell_type": "code",
   "execution_count": 16,
   "id": "9077069f-1dc1-430c-9aa7-622a840f104f",
   "metadata": {},
   "outputs": [],
   "source": [
    "X = tfidfVectorizer.fit_transform(df_da['contents_all'])"
   ]
  },
  {
   "cell_type": "code",
   "execution_count": 11,
   "id": "0ddf7aff-644e-402c-92c6-5230362f6cc0",
   "metadata": {},
   "outputs": [],
   "source": [
    "from sklearn.ensemble import RandomForestClassifier\n",
    "model = RandomForestClassifier(n_jobs=-1)"
   ]
  },
  {
   "cell_type": "code",
   "execution_count": null,
   "id": "44ab81ae-6d39-427d-9f6a-8ea741f0319d",
   "metadata": {},
   "outputs": [],
   "source": []
  },
  {
   "cell_type": "code",
   "execution_count": null,
   "id": "6b4dd12f-f54f-43c5-b499-170c5d9a4fe2",
   "metadata": {},
   "outputs": [],
   "source": []
  }
 ],
 "metadata": {
  "kernelspec": {
   "display_name": "Python 3 (ipykernel)",
   "language": "python",
   "name": "python3"
  },
  "language_info": {
   "codemirror_mode": {
    "name": "ipython",
    "version": 3
   },
   "file_extension": ".py",
   "mimetype": "text/x-python",
   "name": "python",
   "nbconvert_exporter": "python",
   "pygments_lexer": "ipython3",
   "version": "3.11.9"
  }
 },
 "nbformat": 4,
 "nbformat_minor": 5
}
