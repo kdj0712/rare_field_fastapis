{
 "cells": [
  {
   "cell_type": "markdown",
   "id": "ddd2366b-22ac-4f31-9376-4eaa1e137ec1",
   "metadata": {},
   "source": [
    "# 기본세팅"
   ]
  },
  {
   "cell_type": "code",
   "execution_count": null,
   "id": "19fcb696-eee2-49ee-bace-fff0cd2e6936",
   "metadata": {},
   "outputs": [],
   "source": []
  }
 ],
 "metadata": {
  "kernelspec": {
   "display_name": "Python 3 (ipykernel)",
   "language": "python",
   "name": "python3"
  },
  "language_info": {
   "codemirror_mode": {
    "name": "ipython",
    "version": 3
   },
   "file_extension": ".py",
   "mimetype": "text/x-python",
   "name": "python",
   "nbconvert_exporter": "python",
   "pygments_lexer": "ipython3",
   "version": "3.11.9"
  }
 },
 "nbformat": 4,
 "nbformat_minor": 5
}
