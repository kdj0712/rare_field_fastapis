{
 "cells": [
  {
   "cell_type": "markdown",
   "id": "aa2b3082-3cfd-4d30-8212-edc82706f414",
   "metadata": {
    "jp-MarkdownHeadingCollapsed": true
   },
   "source": [
    "## 기본 세팅"
   ]
  },
  {
   "cell_type": "code",
   "execution_count": 1,
   "id": "9ed8e7de-d57d-4919-a58b-2b675c101082",
   "metadata": {
    "collapsed": true,
    "jupyter": {
     "outputs_hidden": true
    }
   },
   "outputs": [
    {
     "name": "stdout",
     "output_type": "stream",
     "text": [
      "Reading package lists... Done\n",
      "Building dependency tree... Done\n",
      "Reading state information... Done\n",
      "fonts-nanum is already the newest version (20200506-1).\n",
      "0 upgraded, 0 newly installed, 0 to remove and 0 not upgraded.\n",
      "Font directories:\n",
      "\t/root/.local/share/fonts\n",
      "\t/usr/local/share/fonts\n",
      "\t/usr/share/fonts\n",
      "\t/root/.fonts\n",
      "\t/usr/share/fonts/truetype\n",
      "\t/usr/share/fonts/truetype/dejavu\n",
      "\t/usr/share/fonts/truetype/liberation\n",
      "\t/usr/share/fonts/truetype/nanum\n",
      "/root/.local/share/fonts: skipping, no such directory\n",
      "/usr/local/share/fonts: caching, new cache contents: 0 fonts, 0 dirs\n",
      "/usr/share/fonts: caching, new cache contents: 0 fonts, 1 dirs\n",
      "/usr/share/fonts/truetype: caching, new cache contents: 0 fonts, 3 dirs\n",
      "/usr/share/fonts/truetype/dejavu: caching, new cache contents: 22 fonts, 0 dirs\n",
      "/usr/share/fonts/truetype/liberation: caching, new cache contents: 16 fonts, 0 dirs\n",
      "/usr/share/fonts/truetype/nanum: caching, new cache contents: 12 fonts, 0 dirs\n",
      "/root/.fonts: skipping, no such directory\n",
      "/usr/share/fonts/truetype: skipping, looped directory detected\n",
      "/usr/share/fonts/truetype/dejavu: skipping, looped directory detected\n",
      "/usr/share/fonts/truetype/liberation: skipping, looped directory detected\n",
      "/usr/share/fonts/truetype/nanum: skipping, looped directory detected\n",
      "/var/cache/fontconfig: cleaning cache directory\n",
      "/root/.cache/fontconfig: not cleaning non-existent cache directory\n",
      "/root/.fontconfig: not cleaning non-existent cache directory\n",
      "fc-cache: succeeded\n"
     ]
    }
   ],
   "source": [
    "### 한글 폰트 설치\n",
    "!apt-get install -y fonts-nanum\n",
    "!fc-cache -fv\n",
    "!rm ~/.cache/matplotlib -rf\n",
    "# 설치 후 colab의 경우 Runtime > Restart session 필요"
   ]
  },
  {
   "cell_type": "code",
   "execution_count": 2,
   "id": "58916ec6-d953-4896-9405-6c9dccbf9133",
   "metadata": {},
   "outputs": [],
   "source": [
    "import matplotlib.pyplot as plt\n",
    "import matplotlib as mpl\n",
    "mpl.rc('font', family='NanumBarunGothic') # 혹은 다른 설치한 Nanum 폰트 사용"
   ]
  },
  {
   "cell_type": "code",
   "execution_count": 3,
   "id": "458c2bd3-2358-44ef-b312-ad2e6d21c2fb",
   "metadata": {},
   "outputs": [],
   "source": [
    "import pandas as pd\n",
    "import seaborn as sns"
   ]
  },
  {
   "cell_type": "markdown",
   "id": "20a6abed-30e3-4659-b8d2-53b9d7bf9b7c",
   "metadata": {},
   "source": [
    "## 2024 희귀질환 리스트"
   ]
  },
  {
   "cell_type": "code",
   "execution_count": 7,
   "id": "91ed05a4-d108-49cf-9089-28fddf4b3aea",
   "metadata": {},
   "outputs": [
    {
     "data": {
      "text/html": [
       "<div>\n",
       "<style scoped>\n",
       "    .dataframe tbody tr th:only-of-type {\n",
       "        vertical-align: middle;\n",
       "    }\n",
       "\n",
       "    .dataframe tbody tr th {\n",
       "        vertical-align: top;\n",
       "    }\n",
       "\n",
       "    .dataframe thead th {\n",
       "        text-align: right;\n",
       "    }\n",
       "</style>\n",
       "<table border=\"1\" class=\"dataframe\">\n",
       "  <thead>\n",
       "    <tr style=\"text-align: right;\">\n",
       "      <th></th>\n",
       "      <th>상병코드</th>\n",
       "      <th>24년 국문 질환명</th>\n",
       "      <th>24년 영문 질환명</th>\n",
       "      <th>신규여부</th>\n",
       "      <th>산정특례 종류</th>\n",
       "      <th>산정특례\\n특정기호</th>\n",
       "    </tr>\n",
       "  </thead>\n",
       "  <tbody>\n",
       "    <tr>\n",
       "      <th>0</th>\n",
       "      <td>A31.9</td>\n",
       "      <td>비정형마이코박테륨증, 가족형, X연관</td>\n",
       "      <td>Atypical mycobacteriosis, familial, x-linked</td>\n",
       "      <td>NaN</td>\n",
       "      <td>극희귀</td>\n",
       "      <td>V900</td>\n",
       "    </tr>\n",
       "    <tr>\n",
       "      <th>1</th>\n",
       "      <td>A81.0</td>\n",
       "      <td>아급성 해면모양뇌병증</td>\n",
       "      <td>Subacute spongiform encephalopathy</td>\n",
       "      <td>NaN</td>\n",
       "      <td>희귀</td>\n",
       "      <td>V102</td>\n",
       "    </tr>\n",
       "    <tr>\n",
       "      <th>2</th>\n",
       "      <td>A81.0</td>\n",
       "      <td>크로이츠펠트-야콥병</td>\n",
       "      <td>Creutzfeldt-Jakob disease</td>\n",
       "      <td>NaN</td>\n",
       "      <td>희귀</td>\n",
       "      <td>V102</td>\n",
       "    </tr>\n",
       "    <tr>\n",
       "      <th>3</th>\n",
       "      <td>D12.6,  M8220/0</td>\n",
       "      <td>가족성선종성폴립증</td>\n",
       "      <td>Familial adenomatous polyposis</td>\n",
       "      <td>NaN</td>\n",
       "      <td>희귀</td>\n",
       "      <td>V281</td>\n",
       "    </tr>\n",
       "    <tr>\n",
       "      <th>4</th>\n",
       "      <td>D55.0</td>\n",
       "      <td>G6PD결핍빈혈</td>\n",
       "      <td>G6PD deficiency anaemia</td>\n",
       "      <td>NaN</td>\n",
       "      <td>희귀</td>\n",
       "      <td>V163</td>\n",
       "    </tr>\n",
       "    <tr>\n",
       "      <th>5</th>\n",
       "      <td>D55.0</td>\n",
       "      <td>잠두중독</td>\n",
       "      <td>Favism</td>\n",
       "      <td>NaN</td>\n",
       "      <td>희귀</td>\n",
       "      <td>V163</td>\n",
       "    </tr>\n",
       "    <tr>\n",
       "      <th>6</th>\n",
       "      <td>D55.0</td>\n",
       "      <td>포도당-6-인산탈수소효소결핍에 의한 빈혈</td>\n",
       "      <td>Anaemia due to glucose-6- phosphate dehydrogen...</td>\n",
       "      <td>NaN</td>\n",
       "      <td>희귀</td>\n",
       "      <td>V163</td>\n",
       "    </tr>\n",
       "    <tr>\n",
       "      <th>7</th>\n",
       "      <td>D55.2</td>\n",
       "      <td>삼탄당인산염이성화효소결핍빈혈</td>\n",
       "      <td>Triose-phosphate isomerase deficiency anaemia</td>\n",
       "      <td>NaN</td>\n",
       "      <td>희귀</td>\n",
       "      <td>V164</td>\n",
       "    </tr>\n",
       "    <tr>\n",
       "      <th>8</th>\n",
       "      <td>D55.2</td>\n",
       "      <td>용혈성 비구상적혈구성 (유전성) Ⅱ형 빈혈</td>\n",
       "      <td>Haemolytic nonspherocytic (hereditary), type Ⅱ...</td>\n",
       "      <td>NaN</td>\n",
       "      <td>희귀</td>\n",
       "      <td>V164</td>\n",
       "    </tr>\n",
       "    <tr>\n",
       "      <th>9</th>\n",
       "      <td>D55.2</td>\n",
       "      <td>피루브산염카이네이스결핍빈혈</td>\n",
       "      <td>Pyruvate kinase[PK] deficiency anaemia</td>\n",
       "      <td>NaN</td>\n",
       "      <td>희귀</td>\n",
       "      <td>V164</td>\n",
       "    </tr>\n",
       "  </tbody>\n",
       "</table>\n",
       "</div>"
      ],
      "text/plain": [
       "              상병코드               24년 국문 질환명  \\\n",
       "0            A31.9     비정형마이코박테륨증, 가족형, X연관   \n",
       "1            A81.0              아급성 해면모양뇌병증   \n",
       "2            A81.0               크로이츠펠트-야콥병   \n",
       "3  D12.6,  M8220/0                가족성선종성폴립증   \n",
       "4            D55.0                 G6PD결핍빈혈   \n",
       "5            D55.0                     잠두중독   \n",
       "6            D55.0   포도당-6-인산탈수소효소결핍에 의한 빈혈   \n",
       "7            D55.2          삼탄당인산염이성화효소결핍빈혈   \n",
       "8            D55.2  용혈성 비구상적혈구성 (유전성) Ⅱ형 빈혈   \n",
       "9            D55.2           피루브산염카이네이스결핍빈혈   \n",
       "\n",
       "                                          24년 영문 질환명 신규여부 산정특례 종류 산정특례\\n특정기호  \n",
       "0       Atypical mycobacteriosis, familial, x-linked  NaN     극희귀       V900  \n",
       "1                 Subacute spongiform encephalopathy  NaN      희귀       V102  \n",
       "2                          Creutzfeldt-Jakob disease  NaN      희귀       V102  \n",
       "3                     Familial adenomatous polyposis  NaN      희귀       V281  \n",
       "4                            G6PD deficiency anaemia  NaN      희귀       V163  \n",
       "5                                             Favism  NaN      희귀       V163  \n",
       "6  Anaemia due to glucose-6- phosphate dehydrogen...  NaN      희귀       V163  \n",
       "7      Triose-phosphate isomerase deficiency anaemia  NaN      희귀       V164  \n",
       "8  Haemolytic nonspherocytic (hereditary), type Ⅱ...  NaN      희귀       V164  \n",
       "9             Pyruvate kinase[PK] deficiency anaemia  NaN      희귀       V164  "
      ]
     },
     "execution_count": 7,
     "metadata": {},
     "output_type": "execute_result"
    }
   ],
   "source": [
    "df_classf_code= pd.read_csv('../csv/2024년 희귀질환자 의료비 지원사업 대상질환 - 분류코드기준_정리.csv')\n",
    "df_classf_code[:10]"
   ]
  },
  {
   "cell_type": "code",
   "execution_count": 8,
   "id": "895a358d-5974-453a-afe6-b2c8d5f01c7e",
   "metadata": {},
   "outputs": [
    {
     "name": "stdout",
     "output_type": "stream",
     "text": [
      "<class 'pandas.core.frame.DataFrame'>\n",
      "RangeIndex: 1248 entries, 0 to 1247\n",
      "Data columns (total 6 columns):\n",
      " #   Column      Non-Null Count  Dtype \n",
      "---  ------      --------------  ----- \n",
      " 0   상병코드        1248 non-null   object\n",
      " 1   24년 국문 질환명  1248 non-null   object\n",
      " 2   24년 영문 질환명  1248 non-null   object\n",
      " 3   신규여부        83 non-null     object\n",
      " 4   산정특례 종류     1248 non-null   object\n",
      " 5   산정특례\n",
      "특정기호   1248 non-null   object\n",
      "dtypes: object(6)\n",
      "memory usage: 58.6+ KB\n"
     ]
    }
   ],
   "source": [
    "df_classf_code.info()"
   ]
  },
  {
   "cell_type": "code",
   "execution_count": 12,
   "id": "e3b8caac-5ae8-4de6-9135-08779e8ead07",
   "metadata": {},
   "outputs": [
    {
     "data": {
      "text/plain": [
       "산정특례 종류\n",
       "희귀     797\n",
       "극희귀    345\n",
       "염색체    106\n",
       "Name: count, dtype: int64"
      ]
     },
     "execution_count": 12,
     "metadata": {},
     "output_type": "execute_result"
    }
   ],
   "source": [
    "df_classf_code['산정특례 종류'].value_counts()"
   ]
  },
  {
   "cell_type": "code",
   "execution_count": 16,
   "id": "8f1b1fb6-4d75-484d-a0e8-418b395f9c76",
   "metadata": {},
   "outputs": [
    {
     "data": {
      "text/plain": [
       "산정특례 종류\n",
       "희귀     0.638622\n",
       "극희귀    0.276442\n",
       "염색체    0.084936\n",
       "Name: proportion, dtype: float64"
      ]
     },
     "execution_count": 16,
     "metadata": {},
     "output_type": "execute_result"
    }
   ],
   "source": [
    "df_classf_code['산정특례 종류'].value_counts(normalize=True)"
   ]
  },
  {
   "cell_type": "code",
   "execution_count": 17,
   "id": "69ec22a4-c70f-420b-9bcc-3f59e65fdc21",
   "metadata": {},
   "outputs": [
    {
     "ename": "KeyError",
     "evalue": "'희귀'",
     "output_type": "error",
     "traceback": [
      "\u001b[0;31m---------------------------------------------------------------------------\u001b[0m",
      "\u001b[0;31mKeyError\u001b[0m                                  Traceback (most recent call last)",
      "File \u001b[0;32m/usr/local/lib/python3.11/site-packages/pandas/core/indexes/base.py:3805\u001b[0m, in \u001b[0;36mIndex.get_loc\u001b[0;34m(self, key)\u001b[0m\n\u001b[1;32m   3804\u001b[0m \u001b[38;5;28;01mtry\u001b[39;00m:\n\u001b[0;32m-> 3805\u001b[0m     \u001b[38;5;28;01mreturn\u001b[39;00m \u001b[38;5;28;43mself\u001b[39;49m\u001b[38;5;241;43m.\u001b[39;49m\u001b[43m_engine\u001b[49m\u001b[38;5;241;43m.\u001b[39;49m\u001b[43mget_loc\u001b[49m\u001b[43m(\u001b[49m\u001b[43mcasted_key\u001b[49m\u001b[43m)\u001b[49m\n\u001b[1;32m   3806\u001b[0m \u001b[38;5;28;01mexcept\u001b[39;00m \u001b[38;5;167;01mKeyError\u001b[39;00m \u001b[38;5;28;01mas\u001b[39;00m err:\n",
      "File \u001b[0;32mindex.pyx:167\u001b[0m, in \u001b[0;36mpandas._libs.index.IndexEngine.get_loc\u001b[0;34m()\u001b[0m\n",
      "File \u001b[0;32mindex.pyx:196\u001b[0m, in \u001b[0;36mpandas._libs.index.IndexEngine.get_loc\u001b[0;34m()\u001b[0m\n",
      "File \u001b[0;32mpandas/_libs/hashtable_class_helper.pxi:7081\u001b[0m, in \u001b[0;36mpandas._libs.hashtable.PyObjectHashTable.get_item\u001b[0;34m()\u001b[0m\n",
      "File \u001b[0;32mpandas/_libs/hashtable_class_helper.pxi:7089\u001b[0m, in \u001b[0;36mpandas._libs.hashtable.PyObjectHashTable.get_item\u001b[0;34m()\u001b[0m\n",
      "\u001b[0;31mKeyError\u001b[0m: '희귀'",
      "\nThe above exception was the direct cause of the following exception:\n",
      "\u001b[0;31mKeyError\u001b[0m                                  Traceback (most recent call last)",
      "Cell \u001b[0;32mIn[17], line 1\u001b[0m\n\u001b[0;32m----> 1\u001b[0m \u001b[43mdf_classf_code\u001b[49m\u001b[43m[\u001b[49m\u001b[38;5;124;43m'\u001b[39;49m\u001b[38;5;124;43m희귀\u001b[39;49m\u001b[38;5;124;43m'\u001b[39;49m\u001b[43m]\u001b[49m\u001b[38;5;241m.\u001b[39mvalue_counts()\n",
      "File \u001b[0;32m/usr/local/lib/python3.11/site-packages/pandas/core/frame.py:4102\u001b[0m, in \u001b[0;36mDataFrame.__getitem__\u001b[0;34m(self, key)\u001b[0m\n\u001b[1;32m   4100\u001b[0m \u001b[38;5;28;01mif\u001b[39;00m \u001b[38;5;28mself\u001b[39m\u001b[38;5;241m.\u001b[39mcolumns\u001b[38;5;241m.\u001b[39mnlevels \u001b[38;5;241m>\u001b[39m \u001b[38;5;241m1\u001b[39m:\n\u001b[1;32m   4101\u001b[0m     \u001b[38;5;28;01mreturn\u001b[39;00m \u001b[38;5;28mself\u001b[39m\u001b[38;5;241m.\u001b[39m_getitem_multilevel(key)\n\u001b[0;32m-> 4102\u001b[0m indexer \u001b[38;5;241m=\u001b[39m \u001b[38;5;28;43mself\u001b[39;49m\u001b[38;5;241;43m.\u001b[39;49m\u001b[43mcolumns\u001b[49m\u001b[38;5;241;43m.\u001b[39;49m\u001b[43mget_loc\u001b[49m\u001b[43m(\u001b[49m\u001b[43mkey\u001b[49m\u001b[43m)\u001b[49m\n\u001b[1;32m   4103\u001b[0m \u001b[38;5;28;01mif\u001b[39;00m is_integer(indexer):\n\u001b[1;32m   4104\u001b[0m     indexer \u001b[38;5;241m=\u001b[39m [indexer]\n",
      "File \u001b[0;32m/usr/local/lib/python3.11/site-packages/pandas/core/indexes/base.py:3812\u001b[0m, in \u001b[0;36mIndex.get_loc\u001b[0;34m(self, key)\u001b[0m\n\u001b[1;32m   3807\u001b[0m     \u001b[38;5;28;01mif\u001b[39;00m \u001b[38;5;28misinstance\u001b[39m(casted_key, \u001b[38;5;28mslice\u001b[39m) \u001b[38;5;129;01mor\u001b[39;00m (\n\u001b[1;32m   3808\u001b[0m         \u001b[38;5;28misinstance\u001b[39m(casted_key, abc\u001b[38;5;241m.\u001b[39mIterable)\n\u001b[1;32m   3809\u001b[0m         \u001b[38;5;129;01mand\u001b[39;00m \u001b[38;5;28many\u001b[39m(\u001b[38;5;28misinstance\u001b[39m(x, \u001b[38;5;28mslice\u001b[39m) \u001b[38;5;28;01mfor\u001b[39;00m x \u001b[38;5;129;01min\u001b[39;00m casted_key)\n\u001b[1;32m   3810\u001b[0m     ):\n\u001b[1;32m   3811\u001b[0m         \u001b[38;5;28;01mraise\u001b[39;00m InvalidIndexError(key)\n\u001b[0;32m-> 3812\u001b[0m     \u001b[38;5;28;01mraise\u001b[39;00m \u001b[38;5;167;01mKeyError\u001b[39;00m(key) \u001b[38;5;28;01mfrom\u001b[39;00m \u001b[38;5;21;01merr\u001b[39;00m\n\u001b[1;32m   3813\u001b[0m \u001b[38;5;28;01mexcept\u001b[39;00m \u001b[38;5;167;01mTypeError\u001b[39;00m:\n\u001b[1;32m   3814\u001b[0m     \u001b[38;5;66;03m# If we have a listlike key, _check_indexing_error will raise\u001b[39;00m\n\u001b[1;32m   3815\u001b[0m     \u001b[38;5;66;03m#  InvalidIndexError. Otherwise we fall through and re-raise\u001b[39;00m\n\u001b[1;32m   3816\u001b[0m     \u001b[38;5;66;03m#  the TypeError.\u001b[39;00m\n\u001b[1;32m   3817\u001b[0m     \u001b[38;5;28mself\u001b[39m\u001b[38;5;241m.\u001b[39m_check_indexing_error(key)\n",
      "\u001b[0;31mKeyError\u001b[0m: '희귀'"
     ]
    }
   ],
   "source": [
    "df_classf_code['신규여부']"
   ]
  },
  {
   "cell_type": "code",
   "execution_count": null,
   "id": "8760aad5-1113-432e-bbf4-f2e2af630b30",
   "metadata": {},
   "outputs": [],
   "source": []
  }
 ],
 "metadata": {
  "kernelspec": {
   "display_name": "Python 3 (ipykernel)",
   "language": "python",
   "name": "python3"
  },
  "language_info": {
   "codemirror_mode": {
    "name": "ipython",
    "version": 3
   },
   "file_extension": ".py",
   "mimetype": "text/x-python",
   "name": "python",
   "nbconvert_exporter": "python",
   "pygments_lexer": "ipython3",
   "version": "3.11.9"
  }
 },
 "nbformat": 4,
 "nbformat_minor": 5
}
